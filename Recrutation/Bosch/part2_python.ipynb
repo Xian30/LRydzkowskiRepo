{
 "cells": [
  {
   "cell_type": "code",
   "execution_count": 1,
   "id": "b66527f4",
   "metadata": {},
   "outputs": [],
   "source": [
    "#1 The distance between the bosch plant and the location of the weather station"
   ]
  },
  {
   "cell_type": "code",
   "execution_count": 1,
   "id": "306723cd",
   "metadata": {},
   "outputs": [],
   "source": [
    "from geopy import distance\n",
    "import pandas as pd\n",
    "import datetime\n",
    "import numpy as np\n",
    "import matplotlib.pyplot as plt\n",
    "import seaborn as sns"
   ]
  },
  {
   "cell_type": "code",
   "execution_count": 2,
   "id": "2d754ba8",
   "metadata": {},
   "outputs": [],
   "source": [
    "#latitude, #longitude\n",
    "plant_location = (48.49524, 9.13782) \n",
    "station_location = (48.54, 9.27)"
   ]
  },
  {
   "cell_type": "code",
   "execution_count": 3,
   "id": "dfa00ef7",
   "metadata": {},
   "outputs": [],
   "source": [
    "distance_in_km = distance.distance(plant_location, station_location).km"
   ]
  },
  {
   "cell_type": "code",
   "execution_count": 4,
   "id": "85ce7d83",
   "metadata": {},
   "outputs": [
    {
     "data": {
      "text/plain": [
       "10.960250035854248"
      ]
     },
     "execution_count": 4,
     "metadata": {},
     "output_type": "execute_result"
    }
   ],
   "source": [
    "distance_in_km"
   ]
  },
  {
   "cell_type": "code",
   "execution_count": 5,
   "id": "430eb577",
   "metadata": {},
   "outputs": [],
   "source": [
    "#reading the file"
   ]
  },
  {
   "cell_type": "code",
   "execution_count": 6,
   "id": "82b16b99",
   "metadata": {},
   "outputs": [],
   "source": [
    "\n",
    "dataset = pd.read_csv(\"produkt_tu_stunde_20090401_20221231_03278.txt\",sep=\";\",header=0)"
   ]
  },
  {
   "cell_type": "code",
   "execution_count": 7,
   "id": "08365b4b",
   "metadata": {},
   "outputs": [
    {
     "data": {
      "text/html": [
       "<div>\n",
       "<style scoped>\n",
       "    .dataframe tbody tr th:only-of-type {\n",
       "        vertical-align: middle;\n",
       "    }\n",
       "\n",
       "    .dataframe tbody tr th {\n",
       "        vertical-align: top;\n",
       "    }\n",
       "\n",
       "    .dataframe thead th {\n",
       "        text-align: right;\n",
       "    }\n",
       "</style>\n",
       "<table border=\"1\" class=\"dataframe\">\n",
       "  <thead>\n",
       "    <tr style=\"text-align: right;\">\n",
       "      <th></th>\n",
       "      <th>STATIONS_ID</th>\n",
       "      <th>MESS_DATUM</th>\n",
       "      <th>QN_9</th>\n",
       "      <th>TT_TU</th>\n",
       "      <th>RF_TU</th>\n",
       "      <th>eor</th>\n",
       "    </tr>\n",
       "  </thead>\n",
       "  <tbody>\n",
       "    <tr>\n",
       "      <th>0</th>\n",
       "      <td>3278</td>\n",
       "      <td>2009040100</td>\n",
       "      <td>3</td>\n",
       "      <td>4.3</td>\n",
       "      <td>81.0</td>\n",
       "      <td>eor</td>\n",
       "    </tr>\n",
       "    <tr>\n",
       "      <th>1</th>\n",
       "      <td>3278</td>\n",
       "      <td>2009040101</td>\n",
       "      <td>3</td>\n",
       "      <td>3.2</td>\n",
       "      <td>84.0</td>\n",
       "      <td>eor</td>\n",
       "    </tr>\n",
       "    <tr>\n",
       "      <th>2</th>\n",
       "      <td>3278</td>\n",
       "      <td>2009040102</td>\n",
       "      <td>3</td>\n",
       "      <td>2.2</td>\n",
       "      <td>88.0</td>\n",
       "      <td>eor</td>\n",
       "    </tr>\n",
       "    <tr>\n",
       "      <th>3</th>\n",
       "      <td>3278</td>\n",
       "      <td>2009040103</td>\n",
       "      <td>3</td>\n",
       "      <td>1.6</td>\n",
       "      <td>89.0</td>\n",
       "      <td>eor</td>\n",
       "    </tr>\n",
       "    <tr>\n",
       "      <th>4</th>\n",
       "      <td>3278</td>\n",
       "      <td>2009040104</td>\n",
       "      <td>3</td>\n",
       "      <td>1.2</td>\n",
       "      <td>92.0</td>\n",
       "      <td>eor</td>\n",
       "    </tr>\n",
       "  </tbody>\n",
       "</table>\n",
       "</div>"
      ],
      "text/plain": [
       "   STATIONS_ID  MESS_DATUM  QN_9  TT_TU  RF_TU  eor\n",
       "0         3278  2009040100     3    4.3   81.0  eor\n",
       "1         3278  2009040101     3    3.2   84.0  eor\n",
       "2         3278  2009040102     3    2.2   88.0  eor\n",
       "3         3278  2009040103     3    1.6   89.0  eor\n",
       "4         3278  2009040104     3    1.2   92.0  eor"
      ]
     },
     "execution_count": 7,
     "metadata": {},
     "output_type": "execute_result"
    }
   ],
   "source": [
    "dataset.head()\n"
   ]
  },
  {
   "cell_type": "code",
   "execution_count": 8,
   "id": "ef3e8505",
   "metadata": {},
   "outputs": [
    {
     "data": {
      "text/plain": [
       "STATIONS_ID      int64\n",
       "MESS_DATUM       int64\n",
       "QN_9             int64\n",
       "TT_TU          float64\n",
       "RF_TU          float64\n",
       "eor             object\n",
       "dtype: object"
      ]
     },
     "execution_count": 8,
     "metadata": {},
     "output_type": "execute_result"
    }
   ],
   "source": [
    "dataset.dtypes"
   ]
  },
  {
   "cell_type": "code",
   "execution_count": 9,
   "id": "c2b8bc09",
   "metadata": {},
   "outputs": [],
   "source": [
    "#setting column names\n",
    "dataset = dataset.rename(columns ={\"MESS_DATUM\": \"date_hour\", \"TT_TU\": \"air_temperature\", \"RF_TU\": \"relative_humidity\" }) "
   ]
  },
  {
   "cell_type": "code",
   "execution_count": 10,
   "id": "dd39811f",
   "metadata": {},
   "outputs": [
    {
     "data": {
      "text/html": [
       "<div>\n",
       "<style scoped>\n",
       "    .dataframe tbody tr th:only-of-type {\n",
       "        vertical-align: middle;\n",
       "    }\n",
       "\n",
       "    .dataframe tbody tr th {\n",
       "        vertical-align: top;\n",
       "    }\n",
       "\n",
       "    .dataframe thead th {\n",
       "        text-align: right;\n",
       "    }\n",
       "</style>\n",
       "<table border=\"1\" class=\"dataframe\">\n",
       "  <thead>\n",
       "    <tr style=\"text-align: right;\">\n",
       "      <th></th>\n",
       "      <th>STATIONS_ID</th>\n",
       "      <th>date_hour</th>\n",
       "      <th>QN_9</th>\n",
       "      <th>air_temperature</th>\n",
       "      <th>relative_humidity</th>\n",
       "      <th>eor</th>\n",
       "    </tr>\n",
       "  </thead>\n",
       "  <tbody>\n",
       "    <tr>\n",
       "      <th>120542</th>\n",
       "      <td>3278</td>\n",
       "      <td>2022123114</td>\n",
       "      <td>3</td>\n",
       "      <td>19.3</td>\n",
       "      <td>50.0</td>\n",
       "      <td>eor</td>\n",
       "    </tr>\n",
       "    <tr>\n",
       "      <th>120543</th>\n",
       "      <td>3278</td>\n",
       "      <td>2022123115</td>\n",
       "      <td>3</td>\n",
       "      <td>18.4</td>\n",
       "      <td>54.0</td>\n",
       "      <td>eor</td>\n",
       "    </tr>\n",
       "    <tr>\n",
       "      <th>120544</th>\n",
       "      <td>3278</td>\n",
       "      <td>2022123116</td>\n",
       "      <td>3</td>\n",
       "      <td>16.4</td>\n",
       "      <td>61.0</td>\n",
       "      <td>eor</td>\n",
       "    </tr>\n",
       "    <tr>\n",
       "      <th>120545</th>\n",
       "      <td>3278</td>\n",
       "      <td>2022123117</td>\n",
       "      <td>3</td>\n",
       "      <td>13.5</td>\n",
       "      <td>71.0</td>\n",
       "      <td>eor</td>\n",
       "    </tr>\n",
       "    <tr>\n",
       "      <th>120546</th>\n",
       "      <td>3278</td>\n",
       "      <td>2022123118</td>\n",
       "      <td>3</td>\n",
       "      <td>12.9</td>\n",
       "      <td>75.0</td>\n",
       "      <td>eor</td>\n",
       "    </tr>\n",
       "    <tr>\n",
       "      <th>120547</th>\n",
       "      <td>3278</td>\n",
       "      <td>2022123119</td>\n",
       "      <td>3</td>\n",
       "      <td>12.9</td>\n",
       "      <td>73.0</td>\n",
       "      <td>eor</td>\n",
       "    </tr>\n",
       "    <tr>\n",
       "      <th>120548</th>\n",
       "      <td>3278</td>\n",
       "      <td>2022123120</td>\n",
       "      <td>3</td>\n",
       "      <td>10.9</td>\n",
       "      <td>81.0</td>\n",
       "      <td>eor</td>\n",
       "    </tr>\n",
       "    <tr>\n",
       "      <th>120549</th>\n",
       "      <td>3278</td>\n",
       "      <td>2022123121</td>\n",
       "      <td>3</td>\n",
       "      <td>10.4</td>\n",
       "      <td>85.0</td>\n",
       "      <td>eor</td>\n",
       "    </tr>\n",
       "    <tr>\n",
       "      <th>120550</th>\n",
       "      <td>3278</td>\n",
       "      <td>2022123122</td>\n",
       "      <td>3</td>\n",
       "      <td>10.4</td>\n",
       "      <td>84.0</td>\n",
       "      <td>eor</td>\n",
       "    </tr>\n",
       "    <tr>\n",
       "      <th>120551</th>\n",
       "      <td>3278</td>\n",
       "      <td>2022123123</td>\n",
       "      <td>3</td>\n",
       "      <td>9.6</td>\n",
       "      <td>84.0</td>\n",
       "      <td>eor</td>\n",
       "    </tr>\n",
       "  </tbody>\n",
       "</table>\n",
       "</div>"
      ],
      "text/plain": [
       "        STATIONS_ID   date_hour  QN_9  air_temperature  relative_humidity  eor\n",
       "120542         3278  2022123114     3             19.3               50.0  eor\n",
       "120543         3278  2022123115     3             18.4               54.0  eor\n",
       "120544         3278  2022123116     3             16.4               61.0  eor\n",
       "120545         3278  2022123117     3             13.5               71.0  eor\n",
       "120546         3278  2022123118     3             12.9               75.0  eor\n",
       "120547         3278  2022123119     3             12.9               73.0  eor\n",
       "120548         3278  2022123120     3             10.9               81.0  eor\n",
       "120549         3278  2022123121     3             10.4               85.0  eor\n",
       "120550         3278  2022123122     3             10.4               84.0  eor\n",
       "120551         3278  2022123123     3              9.6               84.0  eor"
      ]
     },
     "execution_count": 10,
     "metadata": {},
     "output_type": "execute_result"
    }
   ],
   "source": [
    "dataset.tail(10)"
   ]
  },
  {
   "cell_type": "code",
   "execution_count": 11,
   "id": "74d4a74c",
   "metadata": {},
   "outputs": [],
   "source": [
    "#setting types\n",
    "dataset.date_hour = pd.to_datetime(dataset.date_hour, format=\"%Y%m%d%H\")"
   ]
  },
  {
   "cell_type": "code",
   "execution_count": 12,
   "id": "d9ca59da",
   "metadata": {},
   "outputs": [
    {
     "data": {
      "text/html": [
       "<div>\n",
       "<style scoped>\n",
       "    .dataframe tbody tr th:only-of-type {\n",
       "        vertical-align: middle;\n",
       "    }\n",
       "\n",
       "    .dataframe tbody tr th {\n",
       "        vertical-align: top;\n",
       "    }\n",
       "\n",
       "    .dataframe thead th {\n",
       "        text-align: right;\n",
       "    }\n",
       "</style>\n",
       "<table border=\"1\" class=\"dataframe\">\n",
       "  <thead>\n",
       "    <tr style=\"text-align: right;\">\n",
       "      <th></th>\n",
       "      <th>STATIONS_ID</th>\n",
       "      <th>date_hour</th>\n",
       "      <th>QN_9</th>\n",
       "      <th>air_temperature</th>\n",
       "      <th>relative_humidity</th>\n",
       "      <th>eor</th>\n",
       "    </tr>\n",
       "  </thead>\n",
       "  <tbody>\n",
       "    <tr>\n",
       "      <th>0</th>\n",
       "      <td>3278</td>\n",
       "      <td>2009-04-01 00:00:00</td>\n",
       "      <td>3</td>\n",
       "      <td>4.3</td>\n",
       "      <td>81.0</td>\n",
       "      <td>eor</td>\n",
       "    </tr>\n",
       "    <tr>\n",
       "      <th>1</th>\n",
       "      <td>3278</td>\n",
       "      <td>2009-04-01 01:00:00</td>\n",
       "      <td>3</td>\n",
       "      <td>3.2</td>\n",
       "      <td>84.0</td>\n",
       "      <td>eor</td>\n",
       "    </tr>\n",
       "    <tr>\n",
       "      <th>2</th>\n",
       "      <td>3278</td>\n",
       "      <td>2009-04-01 02:00:00</td>\n",
       "      <td>3</td>\n",
       "      <td>2.2</td>\n",
       "      <td>88.0</td>\n",
       "      <td>eor</td>\n",
       "    </tr>\n",
       "    <tr>\n",
       "      <th>3</th>\n",
       "      <td>3278</td>\n",
       "      <td>2009-04-01 03:00:00</td>\n",
       "      <td>3</td>\n",
       "      <td>1.6</td>\n",
       "      <td>89.0</td>\n",
       "      <td>eor</td>\n",
       "    </tr>\n",
       "    <tr>\n",
       "      <th>4</th>\n",
       "      <td>3278</td>\n",
       "      <td>2009-04-01 04:00:00</td>\n",
       "      <td>3</td>\n",
       "      <td>1.2</td>\n",
       "      <td>92.0</td>\n",
       "      <td>eor</td>\n",
       "    </tr>\n",
       "    <tr>\n",
       "      <th>5</th>\n",
       "      <td>3278</td>\n",
       "      <td>2009-04-01 05:00:00</td>\n",
       "      <td>3</td>\n",
       "      <td>2.8</td>\n",
       "      <td>90.0</td>\n",
       "      <td>eor</td>\n",
       "    </tr>\n",
       "    <tr>\n",
       "      <th>6</th>\n",
       "      <td>3278</td>\n",
       "      <td>2009-04-01 06:00:00</td>\n",
       "      <td>3</td>\n",
       "      <td>3.5</td>\n",
       "      <td>86.0</td>\n",
       "      <td>eor</td>\n",
       "    </tr>\n",
       "    <tr>\n",
       "      <th>7</th>\n",
       "      <td>3278</td>\n",
       "      <td>2009-04-01 07:00:00</td>\n",
       "      <td>3</td>\n",
       "      <td>4.1</td>\n",
       "      <td>86.0</td>\n",
       "      <td>eor</td>\n",
       "    </tr>\n",
       "    <tr>\n",
       "      <th>8</th>\n",
       "      <td>3278</td>\n",
       "      <td>2009-04-01 08:00:00</td>\n",
       "      <td>3</td>\n",
       "      <td>5.1</td>\n",
       "      <td>84.0</td>\n",
       "      <td>eor</td>\n",
       "    </tr>\n",
       "    <tr>\n",
       "      <th>9</th>\n",
       "      <td>3278</td>\n",
       "      <td>2009-04-01 09:00:00</td>\n",
       "      <td>3</td>\n",
       "      <td>5.8</td>\n",
       "      <td>80.0</td>\n",
       "      <td>eor</td>\n",
       "    </tr>\n",
       "  </tbody>\n",
       "</table>\n",
       "</div>"
      ],
      "text/plain": [
       "   STATIONS_ID           date_hour  QN_9  air_temperature  relative_humidity  \\\n",
       "0         3278 2009-04-01 00:00:00     3              4.3               81.0   \n",
       "1         3278 2009-04-01 01:00:00     3              3.2               84.0   \n",
       "2         3278 2009-04-01 02:00:00     3              2.2               88.0   \n",
       "3         3278 2009-04-01 03:00:00     3              1.6               89.0   \n",
       "4         3278 2009-04-01 04:00:00     3              1.2               92.0   \n",
       "5         3278 2009-04-01 05:00:00     3              2.8               90.0   \n",
       "6         3278 2009-04-01 06:00:00     3              3.5               86.0   \n",
       "7         3278 2009-04-01 07:00:00     3              4.1               86.0   \n",
       "8         3278 2009-04-01 08:00:00     3              5.1               84.0   \n",
       "9         3278 2009-04-01 09:00:00     3              5.8               80.0   \n",
       "\n",
       "   eor  \n",
       "0  eor  \n",
       "1  eor  \n",
       "2  eor  \n",
       "3  eor  \n",
       "4  eor  \n",
       "5  eor  \n",
       "6  eor  \n",
       "7  eor  \n",
       "8  eor  \n",
       "9  eor  "
      ]
     },
     "execution_count": 12,
     "metadata": {},
     "output_type": "execute_result"
    }
   ],
   "source": [
    "dataset.head(10)"
   ]
  },
  {
   "cell_type": "code",
   "execution_count": 13,
   "id": "9c916ec0",
   "metadata": {},
   "outputs": [
    {
     "data": {
      "text/plain": [
       "STATIONS_ID                   int64\n",
       "date_hour            datetime64[ns]\n",
       "QN_9                          int64\n",
       "air_temperature             float64\n",
       "relative_humidity           float64\n",
       "eor                          object\n",
       "dtype: object"
      ]
     },
     "execution_count": 13,
     "metadata": {},
     "output_type": "execute_result"
    }
   ],
   "source": [
    "dataset.dtypes"
   ]
  },
  {
   "cell_type": "code",
   "execution_count": 14,
   "id": "5c5b2b1f",
   "metadata": {},
   "outputs": [],
   "source": [
    "#dropping unnecessary columns \n",
    "dataset = dataset.drop(columns = [\"STATIONS_ID\",\"QN_9\", \"eor\"] )"
   ]
  },
  {
   "cell_type": "code",
   "execution_count": 15,
   "id": "418e8a26",
   "metadata": {},
   "outputs": [
    {
     "data": {
      "text/html": [
       "<div>\n",
       "<style scoped>\n",
       "    .dataframe tbody tr th:only-of-type {\n",
       "        vertical-align: middle;\n",
       "    }\n",
       "\n",
       "    .dataframe tbody tr th {\n",
       "        vertical-align: top;\n",
       "    }\n",
       "\n",
       "    .dataframe thead th {\n",
       "        text-align: right;\n",
       "    }\n",
       "</style>\n",
       "<table border=\"1\" class=\"dataframe\">\n",
       "  <thead>\n",
       "    <tr style=\"text-align: right;\">\n",
       "      <th></th>\n",
       "      <th>date_hour</th>\n",
       "      <th>air_temperature</th>\n",
       "      <th>relative_humidity</th>\n",
       "    </tr>\n",
       "  </thead>\n",
       "  <tbody>\n",
       "    <tr>\n",
       "      <th>0</th>\n",
       "      <td>2009-04-01 00:00:00</td>\n",
       "      <td>4.3</td>\n",
       "      <td>81.0</td>\n",
       "    </tr>\n",
       "    <tr>\n",
       "      <th>1</th>\n",
       "      <td>2009-04-01 01:00:00</td>\n",
       "      <td>3.2</td>\n",
       "      <td>84.0</td>\n",
       "    </tr>\n",
       "    <tr>\n",
       "      <th>2</th>\n",
       "      <td>2009-04-01 02:00:00</td>\n",
       "      <td>2.2</td>\n",
       "      <td>88.0</td>\n",
       "    </tr>\n",
       "    <tr>\n",
       "      <th>3</th>\n",
       "      <td>2009-04-01 03:00:00</td>\n",
       "      <td>1.6</td>\n",
       "      <td>89.0</td>\n",
       "    </tr>\n",
       "    <tr>\n",
       "      <th>4</th>\n",
       "      <td>2009-04-01 04:00:00</td>\n",
       "      <td>1.2</td>\n",
       "      <td>92.0</td>\n",
       "    </tr>\n",
       "    <tr>\n",
       "      <th>5</th>\n",
       "      <td>2009-04-01 05:00:00</td>\n",
       "      <td>2.8</td>\n",
       "      <td>90.0</td>\n",
       "    </tr>\n",
       "    <tr>\n",
       "      <th>6</th>\n",
       "      <td>2009-04-01 06:00:00</td>\n",
       "      <td>3.5</td>\n",
       "      <td>86.0</td>\n",
       "    </tr>\n",
       "    <tr>\n",
       "      <th>7</th>\n",
       "      <td>2009-04-01 07:00:00</td>\n",
       "      <td>4.1</td>\n",
       "      <td>86.0</td>\n",
       "    </tr>\n",
       "    <tr>\n",
       "      <th>8</th>\n",
       "      <td>2009-04-01 08:00:00</td>\n",
       "      <td>5.1</td>\n",
       "      <td>84.0</td>\n",
       "    </tr>\n",
       "    <tr>\n",
       "      <th>9</th>\n",
       "      <td>2009-04-01 09:00:00</td>\n",
       "      <td>5.8</td>\n",
       "      <td>80.0</td>\n",
       "    </tr>\n",
       "  </tbody>\n",
       "</table>\n",
       "</div>"
      ],
      "text/plain": [
       "            date_hour  air_temperature  relative_humidity\n",
       "0 2009-04-01 00:00:00              4.3               81.0\n",
       "1 2009-04-01 01:00:00              3.2               84.0\n",
       "2 2009-04-01 02:00:00              2.2               88.0\n",
       "3 2009-04-01 03:00:00              1.6               89.0\n",
       "4 2009-04-01 04:00:00              1.2               92.0\n",
       "5 2009-04-01 05:00:00              2.8               90.0\n",
       "6 2009-04-01 06:00:00              3.5               86.0\n",
       "7 2009-04-01 07:00:00              4.1               86.0\n",
       "8 2009-04-01 08:00:00              5.1               84.0\n",
       "9 2009-04-01 09:00:00              5.8               80.0"
      ]
     },
     "execution_count": 15,
     "metadata": {},
     "output_type": "execute_result"
    }
   ],
   "source": [
    "dataset.head(10)"
   ]
  },
  {
   "cell_type": "code",
   "execution_count": 16,
   "id": "9e84be8b",
   "metadata": {},
   "outputs": [],
   "source": [
    "#setting proper missing values type"
   ]
  },
  {
   "cell_type": "code",
   "execution_count": 17,
   "id": "b0818cd1",
   "metadata": {},
   "outputs": [
    {
     "data": {
      "text/plain": [
       "40059   -999.0\n",
       "40060   -999.0\n",
       "40061   -999.0\n",
       "40062   -999.0\n",
       "40063   -999.0\n",
       "         ...  \n",
       "40115   -999.0\n",
       "96415   -999.0\n",
       "96416   -999.0\n",
       "96417   -999.0\n",
       "96418   -999.0\n",
       "Name: air_temperature, Length: 61, dtype: float64"
      ]
     },
     "execution_count": 17,
     "metadata": {},
     "output_type": "execute_result"
    }
   ],
   "source": [
    "dataset.loc[dataset.air_temperature == -999, \"air_temperature\"] "
   ]
  },
  {
   "cell_type": "code",
   "execution_count": 18,
   "id": "82e0b9d1",
   "metadata": {},
   "outputs": [],
   "source": [
    "dataset.loc[dataset.air_temperature == -999, \"air_temperature\"]  = np.nan"
   ]
  },
  {
   "cell_type": "code",
   "execution_count": 19,
   "id": "cdd3c925",
   "metadata": {},
   "outputs": [
    {
     "data": {
      "text/plain": [
       "61"
      ]
     },
     "execution_count": 19,
     "metadata": {},
     "output_type": "execute_result"
    }
   ],
   "source": [
    "dataset.air_temperature.isna().sum()"
   ]
  },
  {
   "cell_type": "code",
   "execution_count": 20,
   "id": "32db9b1e",
   "metadata": {
    "scrolled": true
   },
   "outputs": [
    {
     "data": {
      "text/plain": [
       "18638   -999.0\n",
       "18639   -999.0\n",
       "18640   -999.0\n",
       "18641   -999.0\n",
       "18642   -999.0\n",
       "         ...  \n",
       "40115   -999.0\n",
       "96415   -999.0\n",
       "96416   -999.0\n",
       "96417   -999.0\n",
       "96418   -999.0\n",
       "Name: relative_humidity, Length: 80, dtype: float64"
      ]
     },
     "execution_count": 20,
     "metadata": {},
     "output_type": "execute_result"
    }
   ],
   "source": [
    "dataset.loc[dataset.relative_humidity == -999, \"relative_humidity\"] "
   ]
  },
  {
   "cell_type": "code",
   "execution_count": 21,
   "id": "48751394",
   "metadata": {},
   "outputs": [],
   "source": [
    "dataset.loc[dataset.relative_humidity == -999, \"relative_humidity\"] = np.nan"
   ]
  },
  {
   "cell_type": "code",
   "execution_count": 22,
   "id": "c2f0d7bf",
   "metadata": {},
   "outputs": [
    {
     "data": {
      "text/plain": [
       "80"
      ]
     },
     "execution_count": 22,
     "metadata": {},
     "output_type": "execute_result"
    }
   ],
   "source": [
    "dataset.relative_humidity.isna().sum()"
   ]
  },
  {
   "cell_type": "code",
   "execution_count": 23,
   "id": "8986308c",
   "metadata": {},
   "outputs": [
    {
     "data": {
      "text/plain": [
       "count                 120552\n",
       "mean     2016-02-15 11:30:00\n",
       "min      2009-04-01 00:00:00\n",
       "25%      2012-09-07 17:45:00\n",
       "50%      2016-02-15 11:30:00\n",
       "75%      2019-07-25 05:15:00\n",
       "max      2022-12-31 23:00:00\n",
       "Name: date_hour, dtype: object"
      ]
     },
     "execution_count": 23,
     "metadata": {},
     "output_type": "execute_result"
    }
   ],
   "source": [
    "#2.Describe the general properties of the dataset.\n",
    "\n",
    "#There are 120 552 samples in the dataset. Date range is from 2009-04-01 to 2022-12-31\n",
    "dataset.date_hour.describe(datetime_is_numeric=True)"
   ]
  },
  {
   "cell_type": "code",
   "execution_count": 24,
   "id": "cce34c3b",
   "metadata": {},
   "outputs": [],
   "source": [
    "#there are 61 missing values in air_temperature variable "
   ]
  },
  {
   "cell_type": "code",
   "execution_count": 25,
   "id": "b06b364a",
   "metadata": {},
   "outputs": [
    {
     "data": {
      "text/plain": [
       "61"
      ]
     },
     "execution_count": 25,
     "metadata": {},
     "output_type": "execute_result"
    }
   ],
   "source": [
    "dataset.air_temperature.isna().sum()"
   ]
  },
  {
   "cell_type": "code",
   "execution_count": 26,
   "id": "a75ce5ac",
   "metadata": {},
   "outputs": [],
   "source": [
    "#there are 80 missing values in air_temperature variable "
   ]
  },
  {
   "cell_type": "code",
   "execution_count": 27,
   "id": "dfed3d51",
   "metadata": {},
   "outputs": [
    {
     "data": {
      "text/plain": [
       "80"
      ]
     },
     "execution_count": 27,
     "metadata": {},
     "output_type": "execute_result"
    }
   ],
   "source": [
    "dataset.relative_humidity.isna().sum()"
   ]
  },
  {
   "cell_type": "code",
   "execution_count": 28,
   "id": "859443fe",
   "metadata": {},
   "outputs": [],
   "source": [
    "#filtering out missing values for analytics purporse"
   ]
  },
  {
   "cell_type": "code",
   "execution_count": 29,
   "id": "3b0545a8",
   "metadata": {},
   "outputs": [],
   "source": [
    "dataset_filtered = dataset.dropna(subset=[\"air_temperature\", \"relative_humidity\"])"
   ]
  },
  {
   "cell_type": "code",
   "execution_count": null,
   "id": "ff7f1aea",
   "metadata": {},
   "outputs": [],
   "source": [
    "#80 rows were filtered out"
   ]
  },
  {
   "cell_type": "code",
   "execution_count": 31,
   "id": "550d8682",
   "metadata": {},
   "outputs": [
    {
     "data": {
      "text/plain": [
       "count                           120472\n",
       "mean     2016-02-16 02:25:02.430440192\n",
       "min                2009-04-01 00:00:00\n",
       "25%                2012-09-07 16:45:00\n",
       "50%                2016-02-16 23:30:00\n",
       "75%                2019-07-25 21:15:00\n",
       "max                2022-12-31 23:00:00\n",
       "Name: date_hour, dtype: object"
      ]
     },
     "execution_count": 31,
     "metadata": {},
     "output_type": "execute_result"
    }
   ],
   "source": [
    "dataset_filtered.date_hour.describe(datetime_is_numeric=True)"
   ]
  },
  {
   "cell_type": "code",
   "execution_count": 31,
   "id": "a28c0778",
   "metadata": {},
   "outputs": [
    {
     "data": {
      "text/html": [
       "<div>\n",
       "<style scoped>\n",
       "    .dataframe tbody tr th:only-of-type {\n",
       "        vertical-align: middle;\n",
       "    }\n",
       "\n",
       "    .dataframe tbody tr th {\n",
       "        vertical-align: top;\n",
       "    }\n",
       "\n",
       "    .dataframe thead th {\n",
       "        text-align: right;\n",
       "    }\n",
       "</style>\n",
       "<table border=\"1\" class=\"dataframe\">\n",
       "  <thead>\n",
       "    <tr style=\"text-align: right;\">\n",
       "      <th></th>\n",
       "      <th>air_temperature</th>\n",
       "      <th>relative_humidity</th>\n",
       "    </tr>\n",
       "  </thead>\n",
       "  <tbody>\n",
       "    <tr>\n",
       "      <th>mean</th>\n",
       "      <td>10.934321</td>\n",
       "      <td>74.119322</td>\n",
       "    </tr>\n",
       "    <tr>\n",
       "      <th>median</th>\n",
       "      <td>10.800000</td>\n",
       "      <td>79.000000</td>\n",
       "    </tr>\n",
       "    <tr>\n",
       "      <th>var</th>\n",
       "      <td>67.656674</td>\n",
       "      <td>359.078730</td>\n",
       "    </tr>\n",
       "    <tr>\n",
       "      <th>std</th>\n",
       "      <td>8.225368</td>\n",
       "      <td>18.949373</td>\n",
       "    </tr>\n",
       "  </tbody>\n",
       "</table>\n",
       "</div>"
      ],
      "text/plain": [
       "        air_temperature  relative_humidity\n",
       "mean          10.934321          74.119322\n",
       "median        10.800000          79.000000\n",
       "var           67.656674         359.078730\n",
       "std            8.225368          18.949373"
      ]
     },
     "execution_count": 31,
     "metadata": {},
     "output_type": "execute_result"
    }
   ],
   "source": [
    "#mean, median, variance, and standard deviation for air_temperature and relative_humidity\n",
    "dataset_filtered.agg({\"air_temperature\": [np.mean,np.median,np.var,np.std]\\\n",
    "                     ,\"relative_humidity\": [np.mean,np.median,np.var,np.std]})"
   ]
  },
  {
   "cell_type": "code",
   "execution_count": 32,
   "id": "df572a7f",
   "metadata": {},
   "outputs": [],
   "source": [
    "#range and interquartile range for air_temperature \n",
    "IQR_air_temperature = np.percentile(dataset_filtered.air_temperature, 75)\\\n",
    "                      -\\\n",
    "                      np.percentile(dataset_filtered.air_temperature, 25)"
   ]
  },
  {
   "cell_type": "code",
   "execution_count": 33,
   "id": "77dbb840",
   "metadata": {},
   "outputs": [
    {
     "data": {
      "text/plain": [
       "12.100000000000001"
      ]
     },
     "execution_count": 33,
     "metadata": {},
     "output_type": "execute_result"
    }
   ],
   "source": [
    "IQR_air_temperature "
   ]
  },
  {
   "cell_type": "code",
   "execution_count": 34,
   "id": "a961177f",
   "metadata": {},
   "outputs": [],
   "source": [
    "range_air_temperature = np.max(dataset_filtered.air_temperature) - np.min(dataset_filtered.air_temperature)"
   ]
  },
  {
   "cell_type": "code",
   "execution_count": 35,
   "id": "ebd6805a",
   "metadata": {},
   "outputs": [
    {
     "data": {
      "text/plain": [
       "55.5"
      ]
     },
     "execution_count": 35,
     "metadata": {},
     "output_type": "execute_result"
    }
   ],
   "source": [
    "range_air_temperature"
   ]
  },
  {
   "cell_type": "code",
   "execution_count": 36,
   "id": "8f48571a",
   "metadata": {},
   "outputs": [],
   "source": [
    "#range and interquartile range for relative_humidity"
   ]
  },
  {
   "cell_type": "code",
   "execution_count": 37,
   "id": "78a5be27",
   "metadata": {},
   "outputs": [],
   "source": [
    "IQR_relative_humidity = np.percentile(dataset_filtered.relative_humidity, 75)\\\n",
    "                      -\\\n",
    "                      np.percentile(dataset_filtered.relative_humidity, 25)"
   ]
  },
  {
   "cell_type": "code",
   "execution_count": 38,
   "id": "7d56590a",
   "metadata": {},
   "outputs": [
    {
     "data": {
      "text/plain": [
       "28.0"
      ]
     },
     "execution_count": 38,
     "metadata": {},
     "output_type": "execute_result"
    }
   ],
   "source": [
    "IQR_relative_humidity"
   ]
  },
  {
   "cell_type": "code",
   "execution_count": 39,
   "id": "ddf4fbfe",
   "metadata": {},
   "outputs": [],
   "source": [
    "range_relative_humidity = np.max(dataset_filtered.relative_humidity) - np.min(dataset_filtered.relative_humidity)"
   ]
  },
  {
   "cell_type": "code",
   "execution_count": 40,
   "id": "46b648fc",
   "metadata": {},
   "outputs": [
    {
     "data": {
      "text/plain": [
       "89.0"
      ]
     },
     "execution_count": 40,
     "metadata": {},
     "output_type": "execute_result"
    }
   ],
   "source": [
    "range_relative_humidity"
   ]
  },
  {
   "cell_type": "code",
   "execution_count": 41,
   "id": "484d66d5",
   "metadata": {},
   "outputs": [
    {
     "data": {
      "text/plain": [
       "array([[ 1.        , -0.57003342],\n",
       "       [-0.57003342,  1.        ]])"
      ]
     },
     "execution_count": 41,
     "metadata": {},
     "output_type": "execute_result"
    }
   ],
   "source": [
    "#correlation coefficient between air_temperature and relative_humidity\n",
    "\n",
    "np.corrcoef(dataset_filtered.air_temperature, dataset_filtered.relative_humidity)"
   ]
  },
  {
   "cell_type": "code",
   "execution_count": 43,
   "id": "34f1e7ba",
   "metadata": {},
   "outputs": [
    {
     "name": "stderr",
     "output_type": "stream",
     "text": [
      "C:\\Windows\\Temp\\ipykernel_18544\\159835487.py:1: SettingWithCopyWarning: \n",
      "A value is trying to be set on a copy of a slice from a DataFrame.\n",
      "Try using .loc[row_indexer,col_indexer] = value instead\n",
      "\n",
      "See the caveats in the documentation: https://pandas.pydata.org/pandas-docs/stable/user_guide/indexing.html#returning-a-view-versus-a-copy\n",
      "  dataset_filtered[\"hour\"] = [int(x.hour) for x in dataset_filtered.date_hour]\n"
     ]
    }
   ],
   "source": [
    "#extracting hour, month and year\n",
    "dataset_filtered[\"hour\"] = [int(x.hour) for x in dataset_filtered.date_hour]"
   ]
  },
  {
   "cell_type": "code",
   "execution_count": 44,
   "id": "80903018",
   "metadata": {
    "scrolled": true
   },
   "outputs": [
    {
     "name": "stderr",
     "output_type": "stream",
     "text": [
      "C:\\Windows\\Temp\\ipykernel_18544\\3295492424.py:1: SettingWithCopyWarning: \n",
      "A value is trying to be set on a copy of a slice from a DataFrame.\n",
      "Try using .loc[row_indexer,col_indexer] = value instead\n",
      "\n",
      "See the caveats in the documentation: https://pandas.pydata.org/pandas-docs/stable/user_guide/indexing.html#returning-a-view-versus-a-copy\n",
      "  dataset_filtered[\"month\"] = [int(x.month) for x in dataset_filtered.date_hour]\n"
     ]
    }
   ],
   "source": [
    "dataset_filtered[\"month\"] = [int(x.month) for x in dataset_filtered.date_hour]"
   ]
  },
  {
   "cell_type": "code",
   "execution_count": 45,
   "id": "7570c3cc",
   "metadata": {},
   "outputs": [
    {
     "name": "stderr",
     "output_type": "stream",
     "text": [
      "C:\\Windows\\Temp\\ipykernel_18544\\3248946575.py:1: SettingWithCopyWarning: \n",
      "A value is trying to be set on a copy of a slice from a DataFrame.\n",
      "Try using .loc[row_indexer,col_indexer] = value instead\n",
      "\n",
      "See the caveats in the documentation: https://pandas.pydata.org/pandas-docs/stable/user_guide/indexing.html#returning-a-view-versus-a-copy\n",
      "  dataset_filtered[\"year\"] = [int(x.year) for x in dataset_filtered.date_hour]\n"
     ]
    }
   ],
   "source": [
    "dataset_filtered[\"year\"] = [int(x.year) for x in dataset_filtered.date_hour]"
   ]
  },
  {
   "cell_type": "code",
   "execution_count": 46,
   "id": "0ee441c2",
   "metadata": {},
   "outputs": [
    {
     "data": {
      "text/html": [
       "<div>\n",
       "<style scoped>\n",
       "    .dataframe tbody tr th:only-of-type {\n",
       "        vertical-align: middle;\n",
       "    }\n",
       "\n",
       "    .dataframe tbody tr th {\n",
       "        vertical-align: top;\n",
       "    }\n",
       "\n",
       "    .dataframe thead th {\n",
       "        text-align: right;\n",
       "    }\n",
       "</style>\n",
       "<table border=\"1\" class=\"dataframe\">\n",
       "  <thead>\n",
       "    <tr style=\"text-align: right;\">\n",
       "      <th></th>\n",
       "      <th>date_hour</th>\n",
       "      <th>air_temperature</th>\n",
       "      <th>relative_humidity</th>\n",
       "      <th>hour</th>\n",
       "      <th>month</th>\n",
       "      <th>year</th>\n",
       "    </tr>\n",
       "  </thead>\n",
       "  <tbody>\n",
       "    <tr>\n",
       "      <th>0</th>\n",
       "      <td>2009-04-01 00:00:00</td>\n",
       "      <td>4.3</td>\n",
       "      <td>81.0</td>\n",
       "      <td>0</td>\n",
       "      <td>4</td>\n",
       "      <td>2009</td>\n",
       "    </tr>\n",
       "    <tr>\n",
       "      <th>1</th>\n",
       "      <td>2009-04-01 01:00:00</td>\n",
       "      <td>3.2</td>\n",
       "      <td>84.0</td>\n",
       "      <td>1</td>\n",
       "      <td>4</td>\n",
       "      <td>2009</td>\n",
       "    </tr>\n",
       "    <tr>\n",
       "      <th>2</th>\n",
       "      <td>2009-04-01 02:00:00</td>\n",
       "      <td>2.2</td>\n",
       "      <td>88.0</td>\n",
       "      <td>2</td>\n",
       "      <td>4</td>\n",
       "      <td>2009</td>\n",
       "    </tr>\n",
       "    <tr>\n",
       "      <th>3</th>\n",
       "      <td>2009-04-01 03:00:00</td>\n",
       "      <td>1.6</td>\n",
       "      <td>89.0</td>\n",
       "      <td>3</td>\n",
       "      <td>4</td>\n",
       "      <td>2009</td>\n",
       "    </tr>\n",
       "    <tr>\n",
       "      <th>4</th>\n",
       "      <td>2009-04-01 04:00:00</td>\n",
       "      <td>1.2</td>\n",
       "      <td>92.0</td>\n",
       "      <td>4</td>\n",
       "      <td>4</td>\n",
       "      <td>2009</td>\n",
       "    </tr>\n",
       "    <tr>\n",
       "      <th>...</th>\n",
       "      <td>...</td>\n",
       "      <td>...</td>\n",
       "      <td>...</td>\n",
       "      <td>...</td>\n",
       "      <td>...</td>\n",
       "      <td>...</td>\n",
       "    </tr>\n",
       "    <tr>\n",
       "      <th>120547</th>\n",
       "      <td>2022-12-31 19:00:00</td>\n",
       "      <td>12.9</td>\n",
       "      <td>73.0</td>\n",
       "      <td>19</td>\n",
       "      <td>12</td>\n",
       "      <td>2022</td>\n",
       "    </tr>\n",
       "    <tr>\n",
       "      <th>120548</th>\n",
       "      <td>2022-12-31 20:00:00</td>\n",
       "      <td>10.9</td>\n",
       "      <td>81.0</td>\n",
       "      <td>20</td>\n",
       "      <td>12</td>\n",
       "      <td>2022</td>\n",
       "    </tr>\n",
       "    <tr>\n",
       "      <th>120549</th>\n",
       "      <td>2022-12-31 21:00:00</td>\n",
       "      <td>10.4</td>\n",
       "      <td>85.0</td>\n",
       "      <td>21</td>\n",
       "      <td>12</td>\n",
       "      <td>2022</td>\n",
       "    </tr>\n",
       "    <tr>\n",
       "      <th>120550</th>\n",
       "      <td>2022-12-31 22:00:00</td>\n",
       "      <td>10.4</td>\n",
       "      <td>84.0</td>\n",
       "      <td>22</td>\n",
       "      <td>12</td>\n",
       "      <td>2022</td>\n",
       "    </tr>\n",
       "    <tr>\n",
       "      <th>120551</th>\n",
       "      <td>2022-12-31 23:00:00</td>\n",
       "      <td>9.6</td>\n",
       "      <td>84.0</td>\n",
       "      <td>23</td>\n",
       "      <td>12</td>\n",
       "      <td>2022</td>\n",
       "    </tr>\n",
       "  </tbody>\n",
       "</table>\n",
       "<p>120472 rows × 6 columns</p>\n",
       "</div>"
      ],
      "text/plain": [
       "                 date_hour  air_temperature  relative_humidity  hour  month  \\\n",
       "0      2009-04-01 00:00:00              4.3               81.0     0      4   \n",
       "1      2009-04-01 01:00:00              3.2               84.0     1      4   \n",
       "2      2009-04-01 02:00:00              2.2               88.0     2      4   \n",
       "3      2009-04-01 03:00:00              1.6               89.0     3      4   \n",
       "4      2009-04-01 04:00:00              1.2               92.0     4      4   \n",
       "...                    ...              ...                ...   ...    ...   \n",
       "120547 2022-12-31 19:00:00             12.9               73.0    19     12   \n",
       "120548 2022-12-31 20:00:00             10.9               81.0    20     12   \n",
       "120549 2022-12-31 21:00:00             10.4               85.0    21     12   \n",
       "120550 2022-12-31 22:00:00             10.4               84.0    22     12   \n",
       "120551 2022-12-31 23:00:00              9.6               84.0    23     12   \n",
       "\n",
       "        year  \n",
       "0       2009  \n",
       "1       2009  \n",
       "2       2009  \n",
       "3       2009  \n",
       "4       2009  \n",
       "...      ...  \n",
       "120547  2022  \n",
       "120548  2022  \n",
       "120549  2022  \n",
       "120550  2022  \n",
       "120551  2022  \n",
       "\n",
       "[120472 rows x 6 columns]"
      ]
     },
     "execution_count": 46,
     "metadata": {},
     "output_type": "execute_result"
    }
   ],
   "source": [
    "dataset_filtered"
   ]
  },
  {
   "cell_type": "code",
   "execution_count": 47,
   "id": "b3c1f5c3",
   "metadata": {},
   "outputs": [
    {
     "data": {
      "text/plain": [
       "array([[1.        , 0.15712907],\n",
       "       [0.15712907, 1.        ]])"
      ]
     },
     "execution_count": 47,
     "metadata": {},
     "output_type": "execute_result"
    }
   ],
   "source": [
    "#correlation coefficients between datetime and the given variables - just for check ;))))\n",
    "\n",
    "np.corrcoef(dataset_filtered.hour, dataset_filtered.air_temperature)"
   ]
  },
  {
   "cell_type": "code",
   "execution_count": 48,
   "id": "4f66bd73",
   "metadata": {},
   "outputs": [
    {
     "data": {
      "text/plain": [
       "array([[1.        , 0.14328932],\n",
       "       [0.14328932, 1.        ]])"
      ]
     },
     "execution_count": 48,
     "metadata": {},
     "output_type": "execute_result"
    }
   ],
   "source": [
    "np.corrcoef(dataset_filtered.month, dataset_filtered.air_temperature)"
   ]
  },
  {
   "cell_type": "code",
   "execution_count": 49,
   "id": "e5636729",
   "metadata": {},
   "outputs": [
    {
     "data": {
      "text/plain": [
       "array([[ 1.        , -0.25314056],\n",
       "       [-0.25314056,  1.        ]])"
      ]
     },
     "execution_count": 49,
     "metadata": {},
     "output_type": "execute_result"
    }
   ],
   "source": [
    "np.corrcoef(dataset_filtered.hour, dataset_filtered.relative_humidity)"
   ]
  },
  {
   "cell_type": "code",
   "execution_count": 50,
   "id": "0134117d",
   "metadata": {},
   "outputs": [
    {
     "data": {
      "text/plain": [
       "array([[1.        , 0.16592354],\n",
       "       [0.16592354, 1.        ]])"
      ]
     },
     "execution_count": 50,
     "metadata": {},
     "output_type": "execute_result"
    }
   ],
   "source": [
    "np.corrcoef(dataset_filtered.month, dataset_filtered.relative_humidity)"
   ]
  },
  {
   "cell_type": "code",
   "execution_count": 51,
   "id": "ac63e0e9",
   "metadata": {},
   "outputs": [],
   "source": [
    "#3. minimum, maximum and average temperature in January 2017"
   ]
  },
  {
   "cell_type": "code",
   "execution_count": 52,
   "id": "564859e6",
   "metadata": {},
   "outputs": [
    {
     "data": {
      "text/plain": [
       "date_hour            datetime64[ns]\n",
       "air_temperature             float64\n",
       "relative_humidity           float64\n",
       "hour                          int64\n",
       "month                         int64\n",
       "year                          int64\n",
       "dtype: object"
      ]
     },
     "execution_count": 52,
     "metadata": {},
     "output_type": "execute_result"
    }
   ],
   "source": [
    "dataset_filtered.dtypes"
   ]
  },
  {
   "cell_type": "code",
   "execution_count": 32,
   "id": "c27ce37b",
   "metadata": {},
   "outputs": [
    {
     "data": {
      "text/html": [
       "<div>\n",
       "<style scoped>\n",
       "    .dataframe tbody tr th:only-of-type {\n",
       "        vertical-align: middle;\n",
       "    }\n",
       "\n",
       "    .dataframe tbody tr th {\n",
       "        vertical-align: top;\n",
       "    }\n",
       "\n",
       "    .dataframe thead th {\n",
       "        text-align: right;\n",
       "    }\n",
       "</style>\n",
       "<table border=\"1\" class=\"dataframe\">\n",
       "  <thead>\n",
       "    <tr style=\"text-align: right;\">\n",
       "      <th></th>\n",
       "      <th>date_hour</th>\n",
       "      <th>air_temperature</th>\n",
       "      <th>relative_humidity</th>\n",
       "    </tr>\n",
       "  </thead>\n",
       "  <tbody>\n",
       "    <tr>\n",
       "      <th>67968</th>\n",
       "      <td>2017-01-01 00:00:00</td>\n",
       "      <td>-7.1</td>\n",
       "      <td>91.0</td>\n",
       "    </tr>\n",
       "    <tr>\n",
       "      <th>67969</th>\n",
       "      <td>2017-01-01 01:00:00</td>\n",
       "      <td>-7.1</td>\n",
       "      <td>91.0</td>\n",
       "    </tr>\n",
       "    <tr>\n",
       "      <th>67970</th>\n",
       "      <td>2017-01-01 02:00:00</td>\n",
       "      <td>-6.4</td>\n",
       "      <td>91.0</td>\n",
       "    </tr>\n",
       "    <tr>\n",
       "      <th>67971</th>\n",
       "      <td>2017-01-01 03:00:00</td>\n",
       "      <td>-7.7</td>\n",
       "      <td>91.0</td>\n",
       "    </tr>\n",
       "    <tr>\n",
       "      <th>67972</th>\n",
       "      <td>2017-01-01 04:00:00</td>\n",
       "      <td>-8.7</td>\n",
       "      <td>90.0</td>\n",
       "    </tr>\n",
       "  </tbody>\n",
       "</table>\n",
       "</div>"
      ],
      "text/plain": [
       "                date_hour  air_temperature  relative_humidity\n",
       "67968 2017-01-01 00:00:00             -7.1               91.0\n",
       "67969 2017-01-01 01:00:00             -7.1               91.0\n",
       "67970 2017-01-01 02:00:00             -6.4               91.0\n",
       "67971 2017-01-01 03:00:00             -7.7               91.0\n",
       "67972 2017-01-01 04:00:00             -8.7               90.0"
      ]
     },
     "execution_count": 32,
     "metadata": {},
     "output_type": "execute_result"
    }
   ],
   "source": [
    "dataset_filtered.loc[(dataset_filtered.date_hour >= \"2017-01-01 00:00:00\")\\\n",
    "                     & (dataset_filtered.date_hour <= \"2017-01-31 23:00:00\")].head(5)"
   ]
  },
  {
   "cell_type": "code",
   "execution_count": 33,
   "id": "bac62acd",
   "metadata": {},
   "outputs": [
    {
     "data": {
      "text/html": [
       "<div>\n",
       "<style scoped>\n",
       "    .dataframe tbody tr th:only-of-type {\n",
       "        vertical-align: middle;\n",
       "    }\n",
       "\n",
       "    .dataframe tbody tr th {\n",
       "        vertical-align: top;\n",
       "    }\n",
       "\n",
       "    .dataframe thead th {\n",
       "        text-align: right;\n",
       "    }\n",
       "</style>\n",
       "<table border=\"1\" class=\"dataframe\">\n",
       "  <thead>\n",
       "    <tr style=\"text-align: right;\">\n",
       "      <th></th>\n",
       "      <th>air_temperature</th>\n",
       "    </tr>\n",
       "  </thead>\n",
       "  <tbody>\n",
       "    <tr>\n",
       "      <th>amin</th>\n",
       "      <td>-15.200000</td>\n",
       "    </tr>\n",
       "    <tr>\n",
       "      <th>mean</th>\n",
       "      <td>-2.640323</td>\n",
       "    </tr>\n",
       "    <tr>\n",
       "      <th>amax</th>\n",
       "      <td>8.800000</td>\n",
       "    </tr>\n",
       "  </tbody>\n",
       "</table>\n",
       "</div>"
      ],
      "text/plain": [
       "      air_temperature\n",
       "amin       -15.200000\n",
       "mean        -2.640323\n",
       "amax         8.800000"
      ]
     },
     "execution_count": 33,
     "metadata": {},
     "output_type": "execute_result"
    }
   ],
   "source": [
    "#answer\n",
    "dataset_filtered.loc[(dataset_filtered.date_hour >= \"2017-01-01 00:00:00\")\\\n",
    "                     & (dataset_filtered.date_hour <= \"2017-01-31 23:00:00\")]\\\n",
    "                    .agg({\"air_temperature\": [np.min, np.mean, np.max]  })"
   ]
  },
  {
   "cell_type": "code",
   "execution_count": 55,
   "id": "36d04242",
   "metadata": {},
   "outputs": [],
   "source": [
    "#4 As a result of climate change the average temperature and standard deviation should rise over the periods."
   ]
  },
  {
   "cell_type": "code",
   "execution_count": 56,
   "id": "4a1f4411",
   "metadata": {},
   "outputs": [
    {
     "data": {
      "text/html": [
       "<div>\n",
       "<style scoped>\n",
       "    .dataframe tbody tr th:only-of-type {\n",
       "        vertical-align: middle;\n",
       "    }\n",
       "\n",
       "    .dataframe tbody tr th {\n",
       "        vertical-align: top;\n",
       "    }\n",
       "\n",
       "    .dataframe thead tr th {\n",
       "        text-align: left;\n",
       "    }\n",
       "\n",
       "    .dataframe thead tr:last-of-type th {\n",
       "        text-align: right;\n",
       "    }\n",
       "</style>\n",
       "<table border=\"1\" class=\"dataframe\">\n",
       "  <thead>\n",
       "    <tr>\n",
       "      <th></th>\n",
       "      <th colspan=\"3\" halign=\"left\">air_temperature</th>\n",
       "    </tr>\n",
       "    <tr>\n",
       "      <th></th>\n",
       "      <th>mean</th>\n",
       "      <th>median</th>\n",
       "      <th>std</th>\n",
       "    </tr>\n",
       "    <tr>\n",
       "      <th>year</th>\n",
       "      <th></th>\n",
       "      <th></th>\n",
       "      <th></th>\n",
       "    </tr>\n",
       "  </thead>\n",
       "  <tbody>\n",
       "    <tr>\n",
       "      <th>2009</th>\n",
       "      <td>13.071091</td>\n",
       "      <td>13.3</td>\n",
       "      <td>7.425017</td>\n",
       "    </tr>\n",
       "    <tr>\n",
       "      <th>2010</th>\n",
       "      <td>9.156769</td>\n",
       "      <td>9.3</td>\n",
       "      <td>8.810784</td>\n",
       "    </tr>\n",
       "    <tr>\n",
       "      <th>2011</th>\n",
       "      <td>10.882325</td>\n",
       "      <td>10.8</td>\n",
       "      <td>8.036613</td>\n",
       "    </tr>\n",
       "    <tr>\n",
       "      <th>2012</th>\n",
       "      <td>10.448509</td>\n",
       "      <td>10.2</td>\n",
       "      <td>8.737361</td>\n",
       "    </tr>\n",
       "    <tr>\n",
       "      <th>2013</th>\n",
       "      <td>9.828048</td>\n",
       "      <td>9.9</td>\n",
       "      <td>8.381735</td>\n",
       "    </tr>\n",
       "    <tr>\n",
       "      <th>2014</th>\n",
       "      <td>11.380696</td>\n",
       "      <td>11.3</td>\n",
       "      <td>6.973874</td>\n",
       "    </tr>\n",
       "    <tr>\n",
       "      <th>2015</th>\n",
       "      <td>11.232237</td>\n",
       "      <td>10.8</td>\n",
       "      <td>8.292154</td>\n",
       "    </tr>\n",
       "    <tr>\n",
       "      <th>2016</th>\n",
       "      <td>10.523019</td>\n",
       "      <td>9.8</td>\n",
       "      <td>8.063998</td>\n",
       "    </tr>\n",
       "    <tr>\n",
       "      <th>2017</th>\n",
       "      <td>10.705297</td>\n",
       "      <td>10.3</td>\n",
       "      <td>8.548428</td>\n",
       "    </tr>\n",
       "    <tr>\n",
       "      <th>2018</th>\n",
       "      <td>11.656553</td>\n",
       "      <td>11.5</td>\n",
       "      <td>8.586559</td>\n",
       "    </tr>\n",
       "    <tr>\n",
       "      <th>2019</th>\n",
       "      <td>11.155228</td>\n",
       "      <td>10.7</td>\n",
       "      <td>8.119939</td>\n",
       "    </tr>\n",
       "    <tr>\n",
       "      <th>2020</th>\n",
       "      <td>11.528394</td>\n",
       "      <td>11.4</td>\n",
       "      <td>7.773948</td>\n",
       "    </tr>\n",
       "    <tr>\n",
       "      <th>2021</th>\n",
       "      <td>10.161918</td>\n",
       "      <td>9.6</td>\n",
       "      <td>7.916834</td>\n",
       "    </tr>\n",
       "    <tr>\n",
       "      <th>2022</th>\n",
       "      <td>11.871073</td>\n",
       "      <td>11.6</td>\n",
       "      <td>8.428305</td>\n",
       "    </tr>\n",
       "  </tbody>\n",
       "</table>\n",
       "</div>"
      ],
      "text/plain": [
       "     air_temperature                 \n",
       "                mean median       std\n",
       "year                                 \n",
       "2009       13.071091   13.3  7.425017\n",
       "2010        9.156769    9.3  8.810784\n",
       "2011       10.882325   10.8  8.036613\n",
       "2012       10.448509   10.2  8.737361\n",
       "2013        9.828048    9.9  8.381735\n",
       "2014       11.380696   11.3  6.973874\n",
       "2015       11.232237   10.8  8.292154\n",
       "2016       10.523019    9.8  8.063998\n",
       "2017       10.705297   10.3  8.548428\n",
       "2018       11.656553   11.5  8.586559\n",
       "2019       11.155228   10.7  8.119939\n",
       "2020       11.528394   11.4  7.773948\n",
       "2021       10.161918    9.6  7.916834\n",
       "2022       11.871073   11.6  8.428305"
      ]
     },
     "execution_count": 56,
     "metadata": {},
     "output_type": "execute_result"
    }
   ],
   "source": [
    "#Median temperature in 2022 was the second highest observation in a given period. However, basing on the table below, there is no much evidence that \n",
    "#average temperature is continuously rising. \n",
    "\n",
    "dataset_filtered.groupby([\"year\"]).agg({\"air_temperature\":[np.mean, np.median, np.std]})"
   ]
  },
  {
   "cell_type": "code",
   "execution_count": 57,
   "id": "5a8ffbbb",
   "metadata": {},
   "outputs": [
    {
     "data": {
      "image/png": "[encoded data removed]",
      "text/plain": [
       "<Figure size 640x480 with 1 Axes>"
      ]
     },
     "metadata": {},
     "output_type": "display_data"
    }
   ],
   "source": [
    "#The same story for boxplot\n",
    "dataset_filtered.boxplot(\"air_temperature\", by = \"year\")\n",
    "plt.show()"
   ]
  },
  {
   "cell_type": "code",
   "execution_count": 112,
   "id": "8691437f",
   "metadata": {},
   "outputs": [],
   "source": [
    "#Let's try daily aggregation and than compare observations across different years \n",
    "\n",
    "dataset_filtered_daily =dataset_filtered.groupby([dataset_filtered[\"date_hour\"].dt.date]).agg({\"air_temperature\": [np.mean, np.std]})"
   ]
  },
  {
   "cell_type": "code",
   "execution_count": 114,
   "id": "e03e1cc0",
   "metadata": {},
   "outputs": [],
   "source": [
    "#reseting indexes\n",
    "dataset_filtered_daily = dataset_filtered_daily.reset_index(drop = False, inplace = False)"
   ]
  },
  {
   "cell_type": "code",
   "execution_count": 115,
   "id": "380afad3",
   "metadata": {},
   "outputs": [
    {
     "data": {
      "text/html": [
       "<div>\n",
       "<style scoped>\n",
       "    .dataframe tbody tr th:only-of-type {\n",
       "        vertical-align: middle;\n",
       "    }\n",
       "\n",
       "    .dataframe tbody tr th {\n",
       "        vertical-align: top;\n",
       "    }\n",
       "\n",
       "    .dataframe thead tr th {\n",
       "        text-align: left;\n",
       "    }\n",
       "</style>\n",
       "<table border=\"1\" class=\"dataframe\">\n",
       "  <thead>\n",
       "    <tr>\n",
       "      <th></th>\n",
       "      <th>date_hour</th>\n",
       "      <th colspan=\"2\" halign=\"left\">air_temperature</th>\n",
       "    </tr>\n",
       "    <tr>\n",
       "      <th></th>\n",
       "      <th></th>\n",
       "      <th>mean</th>\n",
       "      <th>std</th>\n",
       "    </tr>\n",
       "  </thead>\n",
       "  <tbody>\n",
       "    <tr>\n",
       "      <th>0</th>\n",
       "      <td>2009-04-01</td>\n",
       "      <td>7.379167</td>\n",
       "      <td>3.838702</td>\n",
       "    </tr>\n",
       "    <tr>\n",
       "      <th>1</th>\n",
       "      <td>2009-04-02</td>\n",
       "      <td>14.075000</td>\n",
       "      <td>4.681903</td>\n",
       "    </tr>\n",
       "    <tr>\n",
       "      <th>2</th>\n",
       "      <td>2009-04-03</td>\n",
       "      <td>13.266667</td>\n",
       "      <td>4.223090</td>\n",
       "    </tr>\n",
       "    <tr>\n",
       "      <th>3</th>\n",
       "      <td>2009-04-04</td>\n",
       "      <td>12.070833</td>\n",
       "      <td>3.813760</td>\n",
       "    </tr>\n",
       "    <tr>\n",
       "      <th>4</th>\n",
       "      <td>2009-04-05</td>\n",
       "      <td>11.600000</td>\n",
       "      <td>2.573274</td>\n",
       "    </tr>\n",
       "    <tr>\n",
       "      <th>...</th>\n",
       "      <td>...</td>\n",
       "      <td>...</td>\n",
       "      <td>...</td>\n",
       "    </tr>\n",
       "    <tr>\n",
       "      <th>5017</th>\n",
       "      <td>2022-12-27</td>\n",
       "      <td>3.000000</td>\n",
       "      <td>2.879915</td>\n",
       "    </tr>\n",
       "    <tr>\n",
       "      <th>5018</th>\n",
       "      <td>2022-12-28</td>\n",
       "      <td>5.925000</td>\n",
       "      <td>4.205819</td>\n",
       "    </tr>\n",
       "    <tr>\n",
       "      <th>5019</th>\n",
       "      <td>2022-12-29</td>\n",
       "      <td>10.895833</td>\n",
       "      <td>1.606097</td>\n",
       "    </tr>\n",
       "    <tr>\n",
       "      <th>5020</th>\n",
       "      <td>2022-12-30</td>\n",
       "      <td>8.245833</td>\n",
       "      <td>3.522102</td>\n",
       "    </tr>\n",
       "    <tr>\n",
       "      <th>5021</th>\n",
       "      <td>2022-12-31</td>\n",
       "      <td>15.212500</td>\n",
       "      <td>2.949180</td>\n",
       "    </tr>\n",
       "  </tbody>\n",
       "</table>\n",
       "<p>5022 rows × 3 columns</p>\n",
       "</div>"
      ],
      "text/plain": [
       "       date_hour air_temperature          \n",
       "                            mean       std\n",
       "0     2009-04-01        7.379167  3.838702\n",
       "1     2009-04-02       14.075000  4.681903\n",
       "2     2009-04-03       13.266667  4.223090\n",
       "3     2009-04-04       12.070833  3.813760\n",
       "4     2009-04-05       11.600000  2.573274\n",
       "...          ...             ...       ...\n",
       "5017  2022-12-27        3.000000  2.879915\n",
       "5018  2022-12-28        5.925000  4.205819\n",
       "5019  2022-12-29       10.895833  1.606097\n",
       "5020  2022-12-30        8.245833  3.522102\n",
       "5021  2022-12-31       15.212500  2.949180\n",
       "\n",
       "[5022 rows x 3 columns]"
      ]
     },
     "execution_count": 115,
     "metadata": {},
     "output_type": "execute_result"
    }
   ],
   "source": [
    "dataset_filtered_daily"
   ]
  },
  {
   "cell_type": "code",
   "execution_count": 117,
   "id": "c8cc8119",
   "metadata": {},
   "outputs": [],
   "source": [
    "dataset_filtered_daily.columns = [x + y.capitalize() for x, y in dataset_filtered_daily.columns]"
   ]
  },
  {
   "cell_type": "code",
   "execution_count": 118,
   "id": "6a4e8f18",
   "metadata": {},
   "outputs": [
    {
     "data": {
      "text/html": [
       "<div>\n",
       "<style scoped>\n",
       "    .dataframe tbody tr th:only-of-type {\n",
       "        vertical-align: middle;\n",
       "    }\n",
       "\n",
       "    .dataframe tbody tr th {\n",
       "        vertical-align: top;\n",
       "    }\n",
       "\n",
       "    .dataframe thead th {\n",
       "        text-align: right;\n",
       "    }\n",
       "</style>\n",
       "<table border=\"1\" class=\"dataframe\">\n",
       "  <thead>\n",
       "    <tr style=\"text-align: right;\">\n",
       "      <th></th>\n",
       "      <th>date_hour</th>\n",
       "      <th>air_temperatureMean</th>\n",
       "      <th>air_temperatureStd</th>\n",
       "    </tr>\n",
       "  </thead>\n",
       "  <tbody>\n",
       "    <tr>\n",
       "      <th>0</th>\n",
       "      <td>2009-04-01</td>\n",
       "      <td>7.379167</td>\n",
       "      <td>3.838702</td>\n",
       "    </tr>\n",
       "    <tr>\n",
       "      <th>1</th>\n",
       "      <td>2009-04-02</td>\n",
       "      <td>14.075000</td>\n",
       "      <td>4.681903</td>\n",
       "    </tr>\n",
       "    <tr>\n",
       "      <th>2</th>\n",
       "      <td>2009-04-03</td>\n",
       "      <td>13.266667</td>\n",
       "      <td>4.223090</td>\n",
       "    </tr>\n",
       "    <tr>\n",
       "      <th>3</th>\n",
       "      <td>2009-04-04</td>\n",
       "      <td>12.070833</td>\n",
       "      <td>3.813760</td>\n",
       "    </tr>\n",
       "    <tr>\n",
       "      <th>4</th>\n",
       "      <td>2009-04-05</td>\n",
       "      <td>11.600000</td>\n",
       "      <td>2.573274</td>\n",
       "    </tr>\n",
       "    <tr>\n",
       "      <th>...</th>\n",
       "      <td>...</td>\n",
       "      <td>...</td>\n",
       "      <td>...</td>\n",
       "    </tr>\n",
       "    <tr>\n",
       "      <th>5017</th>\n",
       "      <td>2022-12-27</td>\n",
       "      <td>3.000000</td>\n",
       "      <td>2.879915</td>\n",
       "    </tr>\n",
       "    <tr>\n",
       "      <th>5018</th>\n",
       "      <td>2022-12-28</td>\n",
       "      <td>5.925000</td>\n",
       "      <td>4.205819</td>\n",
       "    </tr>\n",
       "    <tr>\n",
       "      <th>5019</th>\n",
       "      <td>2022-12-29</td>\n",
       "      <td>10.895833</td>\n",
       "      <td>1.606097</td>\n",
       "    </tr>\n",
       "    <tr>\n",
       "      <th>5020</th>\n",
       "      <td>2022-12-30</td>\n",
       "      <td>8.245833</td>\n",
       "      <td>3.522102</td>\n",
       "    </tr>\n",
       "    <tr>\n",
       "      <th>5021</th>\n",
       "      <td>2022-12-31</td>\n",
       "      <td>15.212500</td>\n",
       "      <td>2.949180</td>\n",
       "    </tr>\n",
       "  </tbody>\n",
       "</table>\n",
       "<p>5022 rows × 3 columns</p>\n",
       "</div>"
      ],
      "text/plain": [
       "       date_hour  air_temperatureMean  air_temperatureStd\n",
       "0     2009-04-01             7.379167            3.838702\n",
       "1     2009-04-02            14.075000            4.681903\n",
       "2     2009-04-03            13.266667            4.223090\n",
       "3     2009-04-04            12.070833            3.813760\n",
       "4     2009-04-05            11.600000            2.573274\n",
       "...          ...                  ...                 ...\n",
       "5017  2022-12-27             3.000000            2.879915\n",
       "5018  2022-12-28             5.925000            4.205819\n",
       "5019  2022-12-29            10.895833            1.606097\n",
       "5020  2022-12-30             8.245833            3.522102\n",
       "5021  2022-12-31            15.212500            2.949180\n",
       "\n",
       "[5022 rows x 3 columns]"
      ]
     },
     "execution_count": 118,
     "metadata": {},
     "output_type": "execute_result"
    }
   ],
   "source": [
    "dataset_filtered_daily"
   ]
  },
  {
   "cell_type": "code",
   "execution_count": 127,
   "id": "78e495c9",
   "metadata": {},
   "outputs": [],
   "source": [
    "#extracting year and day of year\n",
    "dataset_filtered_daily[\"year\"] = [x.year for x in dataset_filtered_daily.date_hour]"
   ]
  },
  {
   "cell_type": "code",
   "execution_count": 134,
   "id": "cabf748e",
   "metadata": {},
   "outputs": [],
   "source": [
    "dataset_filtered_daily.date_hour = pd.to_datetime(dataset_filtered_daily.date_hour, format=\"%Y-%m-%d\")\n"
   ]
  },
  {
   "cell_type": "code",
   "execution_count": 137,
   "id": "f1fa1367",
   "metadata": {},
   "outputs": [],
   "source": [
    "dataset_filtered_daily[\"day_of_year\"] = [x.dayofyear for x in dataset_filtered_daily.date_hour]"
   ]
  },
  {
   "cell_type": "code",
   "execution_count": 139,
   "id": "c256eea9",
   "metadata": {},
   "outputs": [
    {
     "data": {
      "text/html": [
       "<div>\n",
       "<style scoped>\n",
       "    .dataframe tbody tr th:only-of-type {\n",
       "        vertical-align: middle;\n",
       "    }\n",
       "\n",
       "    .dataframe tbody tr th {\n",
       "        vertical-align: top;\n",
       "    }\n",
       "\n",
       "    .dataframe thead th {\n",
       "        text-align: right;\n",
       "    }\n",
       "</style>\n",
       "<table border=\"1\" class=\"dataframe\">\n",
       "  <thead>\n",
       "    <tr style=\"text-align: right;\">\n",
       "      <th></th>\n",
       "      <th>date_hour</th>\n",
       "      <th>air_temperatureMean</th>\n",
       "      <th>air_temperatureStd</th>\n",
       "      <th>year</th>\n",
       "      <th>day_of_year</th>\n",
       "    </tr>\n",
       "  </thead>\n",
       "  <tbody>\n",
       "    <tr>\n",
       "      <th>0</th>\n",
       "      <td>2009-04-01</td>\n",
       "      <td>7.379167</td>\n",
       "      <td>3.838702</td>\n",
       "      <td>2009</td>\n",
       "      <td>91</td>\n",
       "    </tr>\n",
       "    <tr>\n",
       "      <th>1</th>\n",
       "      <td>2009-04-02</td>\n",
       "      <td>14.075000</td>\n",
       "      <td>4.681903</td>\n",
       "      <td>2009</td>\n",
       "      <td>92</td>\n",
       "    </tr>\n",
       "    <tr>\n",
       "      <th>2</th>\n",
       "      <td>2009-04-03</td>\n",
       "      <td>13.266667</td>\n",
       "      <td>4.223090</td>\n",
       "      <td>2009</td>\n",
       "      <td>93</td>\n",
       "    </tr>\n",
       "    <tr>\n",
       "      <th>3</th>\n",
       "      <td>2009-04-04</td>\n",
       "      <td>12.070833</td>\n",
       "      <td>3.813760</td>\n",
       "      <td>2009</td>\n",
       "      <td>94</td>\n",
       "    </tr>\n",
       "    <tr>\n",
       "      <th>4</th>\n",
       "      <td>2009-04-05</td>\n",
       "      <td>11.600000</td>\n",
       "      <td>2.573274</td>\n",
       "      <td>2009</td>\n",
       "      <td>95</td>\n",
       "    </tr>\n",
       "  </tbody>\n",
       "</table>\n",
       "</div>"
      ],
      "text/plain": [
       "   date_hour  air_temperatureMean  air_temperatureStd  year  day_of_year\n",
       "0 2009-04-01             7.379167            3.838702  2009           91\n",
       "1 2009-04-02            14.075000            4.681903  2009           92\n",
       "2 2009-04-03            13.266667            4.223090  2009           93\n",
       "3 2009-04-04            12.070833            3.813760  2009           94\n",
       "4 2009-04-05            11.600000            2.573274  2009           95"
      ]
     },
     "execution_count": 139,
     "metadata": {},
     "output_type": "execute_result"
    }
   ],
   "source": [
    "dataset_filtered_daily.head()"
   ]
  },
  {
   "cell_type": "code",
   "execution_count": 175,
   "id": "61713fcb",
   "metadata": {},
   "outputs": [],
   "source": [
    "#setting colors for different years \n",
    "colors = [\"#d9d7d7\", \"#d9d7d7\", \"#d9d7d7\", \"#d9d7d7\", \"#d9d7d7\", \"#d9d7d7\", \"#d9d7d7\", \"#d9d7d7\", \"#d9d7d7\", \"#d9d7d7\"\\\n",
    "         ,\"#d9d7d7\",\"#d9d7d7\",\"#d9d7d7\",\"#212020\"]"
   ]
  },
  {
   "cell_type": "code",
   "execution_count": 182,
   "id": "745ad4f5",
   "metadata": {},
   "outputs": [
    {
     "data": {
      "text/plain": [
       "<AxesSubplot: xlabel='day_of_year', ylabel='air_temperatureMean'>"
      ]
     },
     "execution_count": 182,
     "metadata": {},
     "output_type": "execute_result"
    },
    {
     "data": {
      "image/png": "[encoded data removed]",
      "text/plain": [
       "<Figure size 640x480 with 1 Axes>"
      ]
     },
     "metadata": {},
     "output_type": "display_data"
    }
   ],
   "source": [
    "#the chart below shows that average temperatures at the end of 2022 were record high.\n",
    "\n",
    "palette = sns.color_palette(colors)\n",
    "\n",
    "\n",
    "sns.lineplot(data=dataset_filtered_daily, x='day_of_year', y='air_temperatureMean', hue='year', palette=palette, alpha=0.8)"
   ]
  },
  {
   "cell_type": "code",
   "execution_count": 192,
   "id": "c0d04fe6",
   "metadata": {},
   "outputs": [
    {
     "data": {
      "text/html": [
       "<div>\n",
       "<style scoped>\n",
       "    .dataframe tbody tr th:only-of-type {\n",
       "        vertical-align: middle;\n",
       "    }\n",
       "\n",
       "    .dataframe tbody tr th {\n",
       "        vertical-align: top;\n",
       "    }\n",
       "\n",
       "    .dataframe thead th {\n",
       "        text-align: right;\n",
       "    }\n",
       "</style>\n",
       "<table border=\"1\" class=\"dataframe\">\n",
       "  <thead>\n",
       "    <tr style=\"text-align: right;\">\n",
       "      <th></th>\n",
       "      <th>date_hour</th>\n",
       "      <th>air_temperatureMean</th>\n",
       "      <th>air_temperatureStd</th>\n",
       "      <th>year</th>\n",
       "      <th>day_of_year</th>\n",
       "    </tr>\n",
       "  </thead>\n",
       "  <tbody>\n",
       "    <tr>\n",
       "      <th>5021</th>\n",
       "      <td>2022-12-31</td>\n",
       "      <td>15.212500</td>\n",
       "      <td>2.949180</td>\n",
       "      <td>2022</td>\n",
       "      <td>365</td>\n",
       "    </tr>\n",
       "    <tr>\n",
       "      <th>4655</th>\n",
       "      <td>2021-12-30</td>\n",
       "      <td>13.229167</td>\n",
       "      <td>1.332692</td>\n",
       "      <td>2021</td>\n",
       "      <td>364</td>\n",
       "    </tr>\n",
       "    <tr>\n",
       "      <th>3195</th>\n",
       "      <td>2017-12-31</td>\n",
       "      <td>11.775000</td>\n",
       "      <td>1.547579</td>\n",
       "      <td>2017</td>\n",
       "      <td>365</td>\n",
       "    </tr>\n",
       "    <tr>\n",
       "      <th>5019</th>\n",
       "      <td>2022-12-29</td>\n",
       "      <td>10.895833</td>\n",
       "      <td>1.606097</td>\n",
       "      <td>2022</td>\n",
       "      <td>363</td>\n",
       "    </tr>\n",
       "    <tr>\n",
       "      <th>4656</th>\n",
       "      <td>2021-12-31</td>\n",
       "      <td>9.320833</td>\n",
       "      <td>2.758226</td>\n",
       "      <td>2021</td>\n",
       "      <td>365</td>\n",
       "    </tr>\n",
       "    <tr>\n",
       "      <th>4654</th>\n",
       "      <td>2021-12-29</td>\n",
       "      <td>9.245833</td>\n",
       "      <td>1.304834</td>\n",
       "      <td>2021</td>\n",
       "      <td>363</td>\n",
       "    </tr>\n",
       "    <tr>\n",
       "      <th>4653</th>\n",
       "      <td>2021-12-28</td>\n",
       "      <td>9.025000</td>\n",
       "      <td>2.140144</td>\n",
       "      <td>2021</td>\n",
       "      <td>362</td>\n",
       "    </tr>\n",
       "    <tr>\n",
       "      <th>5020</th>\n",
       "      <td>2022-12-30</td>\n",
       "      <td>8.245833</td>\n",
       "      <td>3.522102</td>\n",
       "      <td>2022</td>\n",
       "      <td>364</td>\n",
       "    </tr>\n",
       "    <tr>\n",
       "      <th>1366</th>\n",
       "      <td>2012-12-27</td>\n",
       "      <td>8.125000</td>\n",
       "      <td>1.205152</td>\n",
       "      <td>2012</td>\n",
       "      <td>362</td>\n",
       "    </tr>\n",
       "    <tr>\n",
       "      <th>1365</th>\n",
       "      <td>2012-12-26</td>\n",
       "      <td>7.904167</td>\n",
       "      <td>0.752086</td>\n",
       "      <td>2012</td>\n",
       "      <td>361</td>\n",
       "    </tr>\n",
       "  </tbody>\n",
       "</table>\n",
       "</div>"
      ],
      "text/plain": [
       "      date_hour  air_temperatureMean  air_temperatureStd  year  day_of_year\n",
       "5021 2022-12-31            15.212500            2.949180  2022          365\n",
       "4655 2021-12-30            13.229167            1.332692  2021          364\n",
       "3195 2017-12-31            11.775000            1.547579  2017          365\n",
       "5019 2022-12-29            10.895833            1.606097  2022          363\n",
       "4656 2021-12-31             9.320833            2.758226  2021          365\n",
       "4654 2021-12-29             9.245833            1.304834  2021          363\n",
       "4653 2021-12-28             9.025000            2.140144  2021          362\n",
       "5020 2022-12-30             8.245833            3.522102  2022          364\n",
       "1366 2012-12-27             8.125000            1.205152  2012          362\n",
       "1365 2012-12-26             7.904167            0.752086  2012          361"
      ]
     },
     "execution_count": 192,
     "metadata": {},
     "output_type": "execute_result"
    }
   ],
   "source": [
    "#In order to check it the last observations for each year were selected \n",
    "#of the last 10 observations for all years, the largest average air_temperaturw is for 2022.\n",
    "#in addition, 3 observations represents 2022 and 4 represents 2021\n",
    "dataset_filtered_daily[dataset_filtered_daily.day_of_year > 360]\\\n",
    "    .sort_values(by=\"air_temperatureMean\", ascending = False).head(10)"
   ]
  }
 ],
 "metadata": {
  "kernelspec": {
   "display_name": "Python 3 (ipykernel)",
   "language": "python",
   "name": "python3"
  },
  "language_info": {
   "codemirror_mode": {
    "name": "ipython",
    "version": 3
   },
   "file_extension": ".py",
   "mimetype": "text/x-python",
   "name": "python",
   "nbconvert_exporter": "python",
   "pygments_lexer": "ipython3",
   "version": "3.10.9"
  }
 },
 "nbformat": 4,
 "nbformat_minor": 5
}
