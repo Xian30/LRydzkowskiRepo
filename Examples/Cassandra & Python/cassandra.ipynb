{
 "cells": [
  {
   "cell_type": "code",
   "execution_count": 43,
   "id": "28476c8d",
   "metadata": {},
   "outputs": [],
   "source": [
    "import cassandra\n",
    "from cassandra.cluster import Cluster\n",
    "from cassandra.query import SimpleStatement\n",
    "from cassandra import ConsistencyLevel"
   ]
  },
  {
   "cell_type": "code",
   "execution_count": 6,
   "id": "866494f1",
   "metadata": {},
   "outputs": [],
   "source": [
    "#ip wezla\n",
    "cluster = Cluster([\"172.17.0.2\"])"
   ]
  },
  {
   "cell_type": "code",
   "execution_count": 7,
   "id": "aa232cdb",
   "metadata": {},
   "outputs": [],
   "source": [
    "#polaczenie\n",
    "session = cluster.connect()"
   ]
  },
  {
   "cell_type": "code",
   "execution_count": 44,
   "id": "3e17cb77",
   "metadata": {},
   "outputs": [],
   "source": [
    "#ustawienie heyspace'u\n",
    "session.set_keyspace(\"ex1\")"
   ]
  },
  {
   "cell_type": "code",
   "execution_count": 45,
   "id": "bb3db0ab",
   "metadata": {},
   "outputs": [
    {
     "name": "stderr",
     "output_type": "stream",
     "text": [
      "/home/users/lrydzkow/ENV/lib/python3.7/site-packages/ipykernel_launcher.py:1: DeprecationWarning: Setting the consistency level at the session level will be removed in 4.0. Consider using execution profiles and setting the desired consitency level to the EXEC_PROFILE_DEFAULT profile.\n",
      "  \"\"\"Entry point for launching an IPython kernel.\n"
     ]
    }
   ],
   "source": [
    "#deprecated - nie powinno sie uzywac\n",
    "#consistency level stosujemy per zapytanie do bazy\n",
    "session.default_consistency_level = ConsistencyLevel.ONE"
   ]
  },
  {
   "cell_type": "code",
   "execution_count": 9,
   "id": "c6efd4fa",
   "metadata": {},
   "outputs": [],
   "source": [
    "#zapytanie do bazy\n",
    "results = session.execute(\"select * from scores\")"
   ]
  },
  {
   "cell_type": "code",
   "execution_count": 10,
   "id": "4d4a326d",
   "metadata": {},
   "outputs": [
    {
     "data": {
      "text/plain": [
       "[cassandra.cqltypes.VarcharType,\n",
       " cassandra.cqltypes.VarcharType,\n",
       " cassandra.cqltypes.Int32Type,\n",
       " cassandra.cqltypes.Int32Type]"
      ]
     },
     "execution_count": 10,
     "metadata": {},
     "output_type": "execute_result"
    }
   ],
   "source": [
    "results.column_types"
   ]
  },
  {
   "cell_type": "code",
   "execution_count": 11,
   "id": "54ba303f",
   "metadata": {},
   "outputs": [
    {
     "name": "stdout",
     "output_type": "stream",
     "text": [
      "Row(user='pcmanus', game='Coup', year=2015, score=2000)\n",
      "Row(user='yukim', game='Coup', year=2015, score=2250)\n",
      "Row(user='jmckenzie', game='Coup', year=2015, score=2000)\n",
      "Row(user='iamaleksey', game='Coup', year=2015, score=2500)\n",
      "Row(user='tjake', game='Coup', year=2015, score=1000)\n",
      "Row(user='jbellis', game='Coup', year=2015, score=1750)\n"
     ]
    }
   ],
   "source": [
    "for row in results:\n",
    "    print(row)"
   ]
  },
  {
   "cell_type": "code",
   "execution_count": 16,
   "id": "803ff9d8",
   "metadata": {},
   "outputs": [
    {
     "name": "stdout",
     "output_type": "stream",
     "text": [
      "Zawodnik pcmanus uzyskal 2000 w roku 2015\n",
      "Zawodnik yukim uzyskal 2250 w roku 2015\n",
      "Zawodnik jmckenzie uzyskal 2000 w roku 2015\n",
      "Zawodnik iamaleksey uzyskal 2500 w roku 2015\n",
      "Zawodnik tjake uzyskal 1000 w roku 2015\n",
      "Zawodnik jbellis uzyskal 1750 w roku 2015\n"
     ]
    }
   ],
   "source": [
    "results = session.execute(\"select * from scores\")\n",
    "for row in results: \n",
    "    #print(row)\n",
    "    print(f\"Zawodnik {row.user} uzyskal {row.score} w roku {row.year}\")"
   ]
  },
  {
   "cell_type": "code",
   "execution_count": 19,
   "id": "45e45cca",
   "metadata": {},
   "outputs": [
    {
     "name": "stdout",
     "output_type": "stream",
     "text": [
      "Zawodnik pcmanus uzyskal 2000 w roku 2015\n"
     ]
    }
   ],
   "source": [
    "results = session.execute(\"select * from scores WHERE user='pcmanus'\")\n",
    "for row in results: \n",
    "    #print(row)\n",
    "    print(f\"Zawodnik {row.user} uzyskal {row.score} w roku {row.year}\")"
   ]
  },
  {
   "cell_type": "code",
   "execution_count": 21,
   "id": "501d47b5",
   "metadata": {},
   "outputs": [
    {
     "name": "stdout",
     "output_type": "stream",
     "text": [
      "Zawodnik pcmanus uzyskal 2000 w roku 2015\n"
     ]
    }
   ],
   "source": [
    "player = \"pcmanus\"\n",
    "results = session.execute(\"select * from scores WHERE user=%s\", [player])\n",
    "for row in results: \n",
    "    #print(row)\n",
    "    print(f\"Zawodnik {row.user} uzyskal {row.score} w roku {row.year}\")"
   ]
  },
  {
   "cell_type": "code",
   "execution_count": 23,
   "id": "d99b966b",
   "metadata": {},
   "outputs": [
    {
     "name": "stdout",
     "output_type": "stream",
     "text": [
      "Zawodnik pcmanus uzyskal 2000 w roku 2015\n"
     ]
    }
   ],
   "source": [
    "player = \"pcmanus\"\n",
    "results = session.execute(\"select * from scores WHERE user=%s\", (player,))\n",
    "for row in results: \n",
    "    #print(row)\n",
    "    print(f\"Zawodnik {row.user} uzyskal {row.score} w roku {row.year}\")"
   ]
  },
  {
   "cell_type": "code",
   "execution_count": 29,
   "id": "b45dd796",
   "metadata": {},
   "outputs": [
    {
     "name": "stdout",
     "output_type": "stream",
     "text": [
      "Zawodnik pcmanus uzyskal 2000 w roku 2015\n"
     ]
    }
   ],
   "source": [
    "arguments = {\n",
    "    \"player\": \"pcmanus\"\n",
    "}\n",
    "\n",
    "results = session.execute(\"select * from scores WHERE user=%(player)s\", arguments)\n",
    "for row in results: \n",
    "    #print(row)\n",
    "    print(f\"Zawodnik {row.user} uzyskal {row.score} w roku {row.year}\")"
   ]
  },
  {
   "cell_type": "code",
   "execution_count": 40,
   "id": "5c901d5f",
   "metadata": {},
   "outputs": [
    {
     "name": "stdout",
     "output_type": "stream",
     "text": [
      "Zawodnik pcmanus uzyskal 2000 w roku 2015\n"
     ]
    }
   ],
   "source": [
    "player  = \"pcmanus\"\n",
    "results = session.execute(\"select * from scores WHERE user=%(player)s\", {\"player\":player})\n",
    "for row in results: \n",
    "    #print(row)\n",
    "    print(f\"Zawodnik {row.user} uzyskal {row.score} w roku {row.year}\")"
   ]
  },
  {
   "cell_type": "code",
   "execution_count": 36,
   "id": "738fe978",
   "metadata": {},
   "outputs": [
    {
     "name": "stdout",
     "output_type": "stream",
     "text": [
      "Row(user='pcmanus', game='Coup', year=2015, score=2000)\n"
     ]
    }
   ],
   "source": [
    "player  = \"pcmanus\"\n",
    "stmt = SimpleStatement(\"select * from scores WHERE user=%s\")\n",
    "results  = session.execute(stmt, [player])\n",
    "for row in results:\n",
    "    print(row)"
   ]
  },
  {
   "cell_type": "code",
   "execution_count": 42,
   "id": "073ae65a",
   "metadata": {},
   "outputs": [
    {
     "data": {
      "text/plain": [
       "'/home/users/lrydzkow'"
      ]
     },
     "execution_count": 42,
     "metadata": {},
     "output_type": "execute_result"
    }
   ],
   "source": [
    "pwd"
   ]
  },
  {
   "cell_type": "code",
   "execution_count": 46,
   "id": "76903155",
   "metadata": {},
   "outputs": [
    {
     "name": "stdout",
     "output_type": "stream",
     "text": [
      "Row(user='pcmanus', game='Coup', year=2015, score=2000)\n"
     ]
    }
   ],
   "source": [
    "#ustawienie consistency level\n",
    "\n",
    "player  = \"pcmanus\"\n",
    "stmt = SimpleStatement(\"select * from scores WHERE user=%s\", consistency_level= ConsistencyLevel.ONE)\n",
    "results  = session.execute(stmt, [player])\n",
    "for row in results:\n",
    "    print(row)"
   ]
  },
  {
   "cell_type": "code",
   "execution_count": 47,
   "id": "d21cf8df",
   "metadata": {},
   "outputs": [
    {
     "ename": "NoHostAvailable",
     "evalue": "('Unable to complete the operation against any hosts', {<Host: 172.17.0.2:9042 datacenter1>: Unavailable('Error from server: code=1000 [Unavailable exception] message=\"Cannot achieve consistency level TWO\" info={\\'consistency\\': \\'TWO\\', \\'required_replicas\\': 2, \\'alive_replicas\\': 1}')})",
     "output_type": "error",
     "traceback": [
      "\u001b[0;31m---------------------------------------------------------------------------\u001b[0m",
      "\u001b[0;31mNoHostAvailable\u001b[0m                           Traceback (most recent call last)",
      "\u001b[0;32m/tmp/ipykernel_11070/2504317242.py\u001b[0m in \u001b[0;36m<module>\u001b[0;34m\u001b[0m\n\u001b[1;32m      1\u001b[0m \u001b[0mplayer\u001b[0m  \u001b[0;34m=\u001b[0m \u001b[0;34m\"pcmanus\"\u001b[0m\u001b[0;34m\u001b[0m\u001b[0;34m\u001b[0m\u001b[0m\n\u001b[1;32m      2\u001b[0m \u001b[0mstmt\u001b[0m \u001b[0;34m=\u001b[0m \u001b[0mSimpleStatement\u001b[0m\u001b[0;34m(\u001b[0m\u001b[0;34m\"select * from scores WHERE user=%s\"\u001b[0m\u001b[0;34m,\u001b[0m \u001b[0mconsistency_level\u001b[0m\u001b[0;34m=\u001b[0m \u001b[0mConsistencyLevel\u001b[0m\u001b[0;34m.\u001b[0m\u001b[0mTWO\u001b[0m\u001b[0;34m)\u001b[0m\u001b[0;34m\u001b[0m\u001b[0;34m\u001b[0m\u001b[0m\n\u001b[0;32m----> 3\u001b[0;31m \u001b[0mresults\u001b[0m  \u001b[0;34m=\u001b[0m \u001b[0msession\u001b[0m\u001b[0;34m.\u001b[0m\u001b[0mexecute\u001b[0m\u001b[0;34m(\u001b[0m\u001b[0mstmt\u001b[0m\u001b[0;34m,\u001b[0m \u001b[0;34m[\u001b[0m\u001b[0mplayer\u001b[0m\u001b[0;34m]\u001b[0m\u001b[0;34m)\u001b[0m\u001b[0;34m\u001b[0m\u001b[0;34m\u001b[0m\u001b[0m\n\u001b[0m\u001b[1;32m      4\u001b[0m \u001b[0;32mfor\u001b[0m \u001b[0mrow\u001b[0m \u001b[0;32min\u001b[0m \u001b[0mresults\u001b[0m\u001b[0;34m:\u001b[0m\u001b[0;34m\u001b[0m\u001b[0;34m\u001b[0m\u001b[0m\n\u001b[1;32m      5\u001b[0m     \u001b[0mprint\u001b[0m\u001b[0;34m(\u001b[0m\u001b[0mrow\u001b[0m\u001b[0;34m)\u001b[0m\u001b[0;34m\u001b[0m\u001b[0;34m\u001b[0m\u001b[0m\n",
      "\u001b[0;32m~/ENV/lib/python3.7/site-packages/cassandra/cluster.cpython-37m-x86_64-linux-gnu.so\u001b[0m in \u001b[0;36mcassandra.cluster.Session.execute\u001b[0;34m()\u001b[0m\n",
      "\u001b[0;32m~/ENV/lib/python3.7/site-packages/cassandra/cluster.cpython-37m-x86_64-linux-gnu.so\u001b[0m in \u001b[0;36mcassandra.cluster.ResponseFuture.result\u001b[0;34m()\u001b[0m\n",
      "\u001b[0;31mNoHostAvailable\u001b[0m: ('Unable to complete the operation against any hosts', {<Host: 172.17.0.2:9042 datacenter1>: Unavailable('Error from server: code=1000 [Unavailable exception] message=\"Cannot achieve consistency level TWO\" info={\\'consistency\\': \\'TWO\\', \\'required_replicas\\': 2, \\'alive_replicas\\': 1}')})"
     ]
    }
   ],
   "source": [
    "#przy jednym wezle consisteny level two to nie zadziala\n",
    "player  = \"pcmanus\"\n",
    "stmt = SimpleStatement(\"select * from scores WHERE user=%s\", consistency_level= ConsistencyLevel.TWO)\n",
    "results  = session.execute(stmt, [player])\n",
    "for row in results:\n",
    "    print(row)"
   ]
  },
  {
   "cell_type": "code",
   "execution_count": 75,
   "id": "36a570ca",
   "metadata": {},
   "outputs": [],
   "source": [
    "stmt  = SimpleStatement(\"INSERT INTO scores (user,game,year,score) VALUES (%s, %s, %s, %s)\")\n",
    "results = session.execute(stmt,[\"pcmanus\",\"Coup2020\",2020,3000])\n"
   ]
  },
  {
   "cell_type": "code",
   "execution_count": 77,
   "id": "7d701657",
   "metadata": {},
   "outputs": [],
   "source": [
    "for row in results:\n",
    "    print(row)"
   ]
  },
  {
   "cell_type": "code",
   "execution_count": 78,
   "id": "5bbc393e",
   "metadata": {},
   "outputs": [
    {
     "name": "stdout",
     "output_type": "stream",
     "text": [
      "Row(user='pcmanus', game='Coup', year=2015, score=2000)\n",
      "Row(user='pcmanus', game='Coup2020', year=2020, score=3000)\n"
     ]
    }
   ],
   "source": [
    "player  = \"pcmanus\"\n",
    "stmt = SimpleStatement(\"select * from scores WHERE user=%s\", consistency_level= ConsistencyLevel.ONE)\n",
    "results  = session.execute(stmt, [player])\n",
    "for row in results:\n",
    "    print(row)"
   ]
  },
  {
   "cell_type": "code",
   "execution_count": 80,
   "id": "fbfa4099",
   "metadata": {},
   "outputs": [
    {
     "data": {
      "text/plain": [
       "<cassandra.cluster.ResultSet at 0x7ff78de40898>"
      ]
     },
     "execution_count": 80,
     "metadata": {},
     "output_type": "execute_result"
    }
   ],
   "source": [
    "#dodanie nowej kolumny\n",
    "session.execute(\"ALTER TABLE scores ADD address map<text, text>\")"
   ]
  },
  {
   "cell_type": "code",
   "execution_count": 81,
   "id": "06a7a92b",
   "metadata": {},
   "outputs": [
    {
     "data": {
      "text/plain": [
       "<cassandra.cluster.ResultSet at 0x7ff78de40978>"
      ]
     },
     "execution_count": 81,
     "metadata": {},
     "output_type": "execute_result"
    }
   ],
   "source": [
    "#update wartosci\n",
    "session.execute(\"UPDATE scores set address['home'] = 'Warsaw' WHERE user ='pcmanus' AND game = 'Coup' and year = 2015\")"
   ]
  },
  {
   "cell_type": "code",
   "execution_count": 87,
   "id": "fd90a822",
   "metadata": {},
   "outputs": [
    {
     "name": "stdout",
     "output_type": "stream",
     "text": [
      "{'home': 'Warsaw'}\n",
      "None\n"
     ]
    }
   ],
   "source": [
    "#od pythona 3.6 wszystkie slowniki sa w kolejnosci \n",
    "results = session.execute(\" select address from scores WHERE user = 'pcmanus'\")\n",
    "for row in results:\n",
    "    print(row.address)"
   ]
  },
  {
   "cell_type": "code",
   "execution_count": 92,
   "id": "d657c4e5",
   "metadata": {},
   "outputs": [
    {
     "name": "stdout",
     "output_type": "stream",
     "text": [
      "{'home': 'Warsaw', 'work': 'Piaseczno'}\n",
      "None\n"
     ]
    }
   ],
   "source": [
    "#z wykorzystaniem slownika\n",
    "address = {\n",
    "    'home': 'Warsaw',\n",
    "    'work': 'Piaseczno'   \n",
    "}\n",
    "\n",
    "session.execute(\"UPDATE scores set address = %s WHERE user ='pcmanus' AND game = 'Coup' and year = 2015\", [address])\n",
    "\n",
    "results = session.execute(\" select address from scores WHERE user = 'pcmanus'\")\n",
    "for row in results:\n",
    "    print(row.address)"
   ]
  },
  {
   "cell_type": "code",
   "execution_count": 112,
   "id": "647bb354",
   "metadata": {},
   "outputs": [
    {
     "name": "stdout",
     "output_type": "stream",
     "text": [
      "{'game': SortedSet([1, 2, 3, 4]), 'game2': SortedSet([40, 50, 60])}\n",
      "None\n"
     ]
    }
   ],
   "source": [
    "#session.exectue(\"ALTER TABLE scores DROP detailed_scores\")\n",
    "#session.execute(\"ALTER TABLE scores ADD detailed_scores2 map<text, frozen<set<int>>>\")\n",
    "\n",
    "detailed_scores = {\n",
    "    'game': {1,2,3,4,4},\n",
    "    'game2': {40,50,60,60}\n",
    "}    \n",
    "session.execute(\"UPDATE scores set detailed_scores2 = %s WHERE user='pcmanus' AND game='Coup' AND year=2015\", [detailed_scores])\n",
    "    \n",
    "results = session.execute(\" select detailed_scores2 from scores WHERE user = 'pcmanus'\")\n",
    "for row in results:\n",
    "    print(row.detailed_scores2)\n"
   ]
  },
  {
   "cell_type": "code",
   "execution_count": null,
   "id": "54b3cd46",
   "metadata": {},
   "outputs": [],
   "source": []
  },
  {
   "cell_type": "code",
   "execution_count": null,
   "id": "342fb8f4",
   "metadata": {},
   "outputs": [],
   "source": []
  }
 ],
 "metadata": {
  "kernelspec": {
   "display_name": "Python 3 (ipykernel)",
   "language": "python",
   "name": "python3"
  },
  "language_info": {
   "codemirror_mode": {
    "name": "ipython",
    "version": 3
   },
   "file_extension": ".py",
   "mimetype": "text/x-python",
   "name": "python",
   "nbconvert_exporter": "python",
   "pygments_lexer": "ipython3",
   "version": "3.7.3"
  }
 },
 "nbformat": 4,
 "nbformat_minor": 5
}
